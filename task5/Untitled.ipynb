{
 "cells": [
  {
   "cell_type": "code",
   "execution_count": 12,
   "id": "22138a9e",
   "metadata": {},
   "outputs": [
    {
     "name": "stdout",
     "output_type": "stream",
     "text": [
      "Employee created.\n",
      "\n",
      " Destructor called, Employee deleted.\n"
     ]
    }
   ],
   "source": [
    "\"\"\"Here is the simple example of destructor. By using del keyword we deleted the all references of object ‘obj’, \n",
    "therefore destructor invoked automatically.\"\"\"\n",
    "# Python program to illustrate destructor\n",
    "class Employee:\n",
    "    # Initializing\n",
    "    def __init__(self):\n",
    "        print('Employee created.')\n",
    "    \n",
    "    # Deleting (Calling destructor)\n",
    "    def __del__(self):\n",
    "        print('\\n Destructor called, Employee deleted.')\n",
    "\n",
    "obj = Employee()\n",
    "del obj\n"
   ]
  },
  {
   "cell_type": "code",
   "execution_count": 15,
   "id": "9a2c4672",
   "metadata": {},
   "outputs": [
    {
     "name": "stdout",
     "output_type": "stream",
     "text": [
      "Employee created.\n",
      "\n",
      " Destructor called, Employee deleted.\n"
     ]
    }
   ],
   "source": [
    "\"\"\"The destructor was called after the program ended or when all the references to object are deleted \n",
    "i.e when the reference count becomes zero, not when object went out of scope.\"\"\"\n",
    "# Python program to illustrate destructor\n",
    "class Employee:\n",
    "    # Initializing\n",
    "    def __init__(self):\n",
    "        print('Employee created.')\n",
    "    \n",
    "    # Deleting (Calling destructor)\n",
    "    def __del__(self):\n",
    "        print('\\n Destructor called, Employee deleted.')\n",
    "\n",
    "obj = Employee()"
   ]
  }
 ],
 "metadata": {
  "kernelspec": {
   "display_name": "Python 3 (ipykernel)",
   "language": "python",
   "name": "python3"
  },
  "language_info": {
   "codemirror_mode": {
    "name": "ipython",
    "version": 3
   },
   "file_extension": ".py",
   "mimetype": "text/x-python",
   "name": "python",
   "nbconvert_exporter": "python",
   "pygments_lexer": "ipython3",
   "version": "3.9.7"
  }
 },
 "nbformat": 4,
 "nbformat_minor": 5
}
