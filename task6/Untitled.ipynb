{
 "cells": [
  {
   "cell_type": "code",
   "execution_count": 1,
   "id": "6fd3bf85",
   "metadata": {},
   "outputs": [
    {
     "data": {
      "text/plain": [
       "'why and how to use portected variable in python'"
      ]
     },
     "execution_count": 1,
     "metadata": {},
     "output_type": "execute_result"
    }
   ],
   "source": [
    "\"\"\"why and how to use portected variable in python\n",
    "\n",
    "Protected variables are those data members of a class that can be accessed\n",
    "within the class and the classes derived from that class. In Python, there is no existence of \n",
    "“Public” instance variables. However, we use underscore ‘_’ symbol to determine the access control of \n",
    "a data member in a class. Any member prefixed with an underscore should be treated\n",
    "as a non-public part of the API or any Python code, whether it is a function, a method or a data member.\"\"\"\n"
   ]
  },
  {
   "cell_type": "code",
   "execution_count": 3,
   "id": "79849a46",
   "metadata": {},
   "outputs": [
    {
     "name": "stdout",
     "output_type": "stream",
     "text": [
      "Length:  80\n",
      "Breadth:  50\n",
      "Area:  4000\n"
     ]
    }
   ],
   "source": [
    "\n",
    "# program to illustrate protected\n",
    "# data members in a class \n",
    "  \n",
    "  \n",
    "# super class \n",
    "class Shape: \n",
    "      \n",
    "    # constructor \n",
    "    def __init__(self, length, breadth): \n",
    "        self._length = length  # Protected Variable\n",
    "        self._breadth = breadth # Protected Variable\n",
    "          \n",
    "    # public member function \n",
    "    def displaySides(self): \n",
    "  \n",
    "        # accessing protected data members \n",
    "        print(\"Length: \", self._length) \n",
    "        print(\"Breadth: \", self._breadth) \n",
    "  \n",
    "  \n",
    "# derived class \n",
    "class Rectangle(Shape): \n",
    "  \n",
    "    # constructor \n",
    "    def __init__(self, length, breadth): \n",
    "  \n",
    "        # Calling the constructor of\n",
    "        # Super class\n",
    "        Shape.__init__(self, length, breadth) \n",
    "          \n",
    "    # public member function \n",
    "    def calculateArea(self): \n",
    "                      \n",
    "        # accessing protected data members of super class \n",
    "        print(\"Area: \", self._length * self._breadth) \n",
    "                      \n",
    "  \n",
    "# creating objects of the \n",
    "# derived class         \n",
    "obj = Rectangle(80, 50) \n",
    "  \n",
    "# calling derived member \n",
    "# functions of the class\n",
    "obj.displaySides()\n",
    "  \n",
    "# calling public member\n",
    "# functions of the class \n",
    "obj.calculateArea()"
   ]
  },
  {
   "cell_type": "code",
   "execution_count": 13,
   "id": "c3920292",
   "metadata": {},
   "outputs": [
    {
     "name": "stdout",
     "output_type": "stream",
     "text": [
      "Ahmed\n",
      "Ali\n"
     ]
    }
   ],
   "source": [
    "\"\"\"How to acess private variable in superclass from its subclass? \"\"\"\n",
    "class Student:\n",
    "    def __init__(self,name):\n",
    "        self.__name=name\n",
    "    @property\n",
    "    def name(self):\n",
    "        return self.__name\n",
    "    @name.setter\n",
    "    def name(self,newname):\n",
    "        self.__name=newname\n",
    "        \n",
    "obj=Student(\"Ahmed\")\n",
    "print(obj.name)\n",
    "obj.name=\"Ali\"\n",
    "print(obj.name)"
   ]
  },
  {
   "cell_type": "code",
   "execution_count": 27,
   "id": "6cd8dd17",
   "metadata": {},
   "outputs": [
    {
     "name": "stdout",
     "output_type": "stream",
     "text": [
      "name:  Kamel\n"
     ]
    }
   ],
   "source": [
    "class Group(Student):\n",
    "    def __init__(self,name):\n",
    "        Student.__init__(self,name)\n",
    "        \n",
    "    def display(self):\n",
    "        print(\"name: \", self.name)\n",
    "\n",
    "        \n",
    "gp=Group(\"Kamel\")\n",
    "#print(gp.name)\n",
    "gp.display()"
   ]
  }
 ],
 "metadata": {
  "kernelspec": {
   "display_name": "Python 3 (ipykernel)",
   "language": "python",
   "name": "python3"
  },
  "language_info": {
   "codemirror_mode": {
    "name": "ipython",
    "version": 3
   },
   "file_extension": ".py",
   "mimetype": "text/x-python",
   "name": "python",
   "nbconvert_exporter": "python",
   "pygments_lexer": "ipython3",
   "version": "3.9.7"
  }
 },
 "nbformat": 4,
 "nbformat_minor": 5
}
