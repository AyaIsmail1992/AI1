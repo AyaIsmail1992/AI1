{
 "cells": [
  {
   "cell_type": "code",
   "execution_count": 19,
   "id": "69abfb0e",
   "metadata": {},
   "outputs": [
    {
     "data": {
      "text/plain": [
       "'Mini Project 1\\n\\nStatement:-\\nThe task is to create an “Online Library Management System.”\\nFor this, you have to create a library class that includes the\\nfollowing methods:\\n\\nDisplaybook(): To display the available books\\nLendbook(): To lend a book to a user\\nAddbook(): To add a book to the library\\nReturnbook(): To return the book to the library.\\n\\nAs you have created a library class, \\nnow you will create an object and pass the following parameters in the constructor.\\nHarryLibrary=Library(listofbooks, library_name)\\n\\nAfter that, create a main function and run an infinite while loop\\nthat asks the users for their input whether they want to display,\\nlend, add or return a book.\\n\\nOptional:-\\nMaintain a dictionary for the users who own a book. Dictionary\\nshould take book name as a key and name of the person as a\\nvalue. Whenever you lend a book to a user, you should maintain\\na dictionary.'"
      ]
     },
     "execution_count": 19,
     "metadata": {},
     "output_type": "execute_result"
    }
   ],
   "source": [
    "\"\"\"Mini Project 1\n",
    "\n",
    "Statement:-\n",
    "The task is to create an “Online Library Management System.”\n",
    "For this, you have to create a library class that includes the\n",
    "following methods:\n",
    "\n",
    "Displaybook(): To display the available books\n",
    "Lendbook(): To lend a book to a user\n",
    "Addbook(): To add a book to the library\n",
    "Returnbook(): To return the book to the library.\n",
    "\n",
    "As you have created a library class, \n",
    "now you will create an object and pass the following parameters in the constructor.\n",
    "HarryLibrary=Library(listofbooks, library_name)\n",
    "\n",
    "After that, create a main function and run an infinite while loop\n",
    "that asks the users for their input whether they want to display,\n",
    "lend, add or return a book.\n",
    "\n",
    "Optional:-\n",
    "Maintain a dictionary for the users who own a book. Dictionary\n",
    "should take book name as a key and name of the person as a\n",
    "value. Whenever you lend a book to a user, you should maintain\n",
    "a dictionary.\"\"\""
   ]
  },
  {
   "cell_type": "code",
   "execution_count": 24,
   "id": "94693b84",
   "metadata": {},
   "outputs": [
    {
     "name": "stdout",
     "output_type": "stream",
     "text": [
      "Please enter 1 to display avilable books in library, 2 to lend a book from a library, 3 to add a new book to library, or 4 to return a book1\n",
      "The available books are: \n",
      "Python\n",
      "PHP\n",
      "Web design\n",
      "C++\n",
      "Please enter 1 to display avilable books in library, 2 to lend a book from a library, 3 to add a new book to library, or 4 to return a book2\n",
      "Please enter the book name you want to lend: C++\n",
      "Please enter your name: Aya\n",
      "The lended books are:  {'C++': 'Aya'}\n",
      "Please enter 1 to display avilable books in library, 2 to lend a book from a library, 3 to add a new book to library, or 4 to return a book2\n",
      "Please enter the book name you want to lend: PHP\n",
      "Please enter your name: Ali\n",
      "The lended books are:  {'C++': 'Aya', 'PHP': 'Ali'}\n",
      "Please enter 1 to display avilable books in library, 2 to lend a book from a library, 3 to add a new book to library, or 4 to return a book3\n",
      "Please enter the new book name to add to the library: C#\n",
      "Please enter 1 to display avilable books in library, 2 to lend a book from a library, 3 to add a new book to library, or 4 to return a book1\n",
      "The available books are: \n",
      "Python\n",
      "PHP\n",
      "Web design\n",
      "C++\n",
      "C#\n",
      "Please enter 1 to display avilable books in library, 2 to lend a book from a library, 3 to add a new book to library, or 4 to return a book5\n"
     ]
    }
   ],
   "source": [
    "class Library:\n",
    "    \n",
    "    def __init__(self,listofbooks,library_name):\n",
    "        self.listofbooks=listofbooks\n",
    "        self.library_name=library_name\n",
    "        self.LendDict={}\n",
    "         \n",
    "        \n",
    "    def Displaybook(self):\n",
    "        print(\"The available books are: \")\n",
    "        for book in self.listofbooks:\n",
    "            print(book)\n",
    "            \n",
    "    def Lendbook(self):\n",
    "        book_name=input(\"Please enter the book name you want to lend: \")\n",
    "        if book_name not in self.listofbooks:\n",
    "            print(\"The book is not available in the library\")\n",
    "        else:\n",
    "            if book_name in self.LendDict.keys():\n",
    "                print(\"The book is already lended\")\n",
    "            else:\n",
    "                your_name=input(\"Please enter your name: \")\n",
    "                self.LendDict[book_name]=your_name\n",
    "                print(\"The lended books are: \", self.LendDict)\n",
    "            \n",
    "                \n",
    "        \n",
    "    def Addbook(self):\n",
    "        book_name_new=input(\"Please enter the new book name to add to the library: \")\n",
    "        if book_name_new not in self.listofbooks:\n",
    "            self.listofbooks.append(book_name_new)\n",
    "            \n",
    "        \n",
    "    def Returnbook(self):\n",
    "        book_name_return=input(\"Please enter the book name to return to the library: \")\n",
    "        self.LendDict.pop(book_name_return)\n",
    "    \n",
    "def main():\n",
    "    HarryLibrary=Library([\"Python\",\"PHP\",\"Web design\",\"C++\"], \"Harry\")\n",
    "    while True:\n",
    "        #display,lend, add or return a book.\n",
    "        choice=int(input(\"Please enter 1 to display avilable books in library, 2 to lend a book from a library, 3 to add a new book to library, or 4 to return a book\"))\n",
    "        if choice==1:\n",
    "            HarryLibrary.Displaybook()\n",
    "        elif choice==2:\n",
    "            HarryLibrary.Lendbook()\n",
    "        elif choice==3:\n",
    "            HarryLibrary.Addbook()\n",
    "        elif choice==4:\n",
    "            HarryLibrary.Returnbook()\n",
    "        elif choice==5:\n",
    "            break\n",
    "        else:\n",
    "            print(\"Wrong choice\")\n",
    "    \n",
    "if __name__== \"__main__\" :\n",
    "    main()\n",
    "    \n",
    "    "
   ]
  },
  {
   "cell_type": "code",
   "execution_count": null,
   "id": "e0f0384e",
   "metadata": {},
   "outputs": [],
   "source": []
  },
  {
   "cell_type": "code",
   "execution_count": null,
   "id": "ad5a8dba",
   "metadata": {},
   "outputs": [],
   "source": []
  },
  {
   "cell_type": "code",
   "execution_count": null,
   "id": "6be851af",
   "metadata": {},
   "outputs": [],
   "source": []
  }
 ],
 "metadata": {
  "kernelspec": {
   "display_name": "Python 3 (ipykernel)",
   "language": "python",
   "name": "python3"
  },
  "language_info": {
   "codemirror_mode": {
    "name": "ipython",
    "version": 3
   },
   "file_extension": ".py",
   "mimetype": "text/x-python",
   "name": "python",
   "nbconvert_exporter": "python",
   "pygments_lexer": "ipython3",
   "version": "3.9.7"
  }
 },
 "nbformat": 4,
 "nbformat_minor": 5
}
