{
 "cells": [
  {
   "cell_type": "code",
   "execution_count": 16,
   "id": "3d7eae66",
   "metadata": {},
   "outputs": [],
   "source": [
    "import re\n",
    "# for validating an Email\n",
    "regex = r'[A-Za-z0-9_.+-]+@[A-Za-z0-9-]+\\.[A-Za-z0-9-.]{2,}'"
   ]
  },
  {
   "cell_type": "code",
   "execution_count": 18,
   "id": "9b949d19",
   "metadata": {},
   "outputs": [
    {
     "name": "stdout",
     "output_type": "stream",
     "text": [
      "please enter the number of employees: 2\n",
      "Enter data for each employee: \n",
      "Enter name (at least three words): aya ali amen\n",
      "Enter mobile phone number (should be at least eleven number): 01147296250\n",
      "Enter email (should be a valid email): aya.ismail@gmail.com\n",
      "It's a Valid Email\n",
      "Enter data for each employee: \n",
      "Enter name (at least three words): ahmed kamel ali\n",
      "Enter mobile phone number (should be at least eleven number): 01147296350\n",
      "Enter email (should be a valid email): ahmed14.ali@gmail.com\n",
      "It's a Valid Email\n",
      "[['aya ali amen', '01147296250', 'aya.ismail@gmail.com'], ['ahmed kamel ali', '01147296350', 'ahmed14.ali@gmail.com']]\n"
     ]
    }
   ],
   "source": [
    "\"\"\"1. Read file and list each name, phone number and email separately in lists\"\"\"\n",
    "data_for_all_employees=[]\n",
    "\n",
    "number=int(input(\"please enter the number of employees: \"))\n",
    "for i in range(number):\n",
    "    data_per_employee=[]\n",
    "    print(\"Enter data for each employee: \")\n",
    "    \n",
    "    while True:\n",
    "        name=input(\"Enter name (at least three words): \")\n",
    "        split_name=name.split()\n",
    "        if len(split_name)>=3:\n",
    "            data_per_employee.append(name)\n",
    "            break\n",
    "    \n",
    "    while True:\n",
    "        phone=input(\"Enter mobile phone number (should be at least eleven number): \")\n",
    "        if len(phone)>=11:\n",
    "            data_per_employee.append(phone)\n",
    "            break\n",
    "            \n",
    "    while True:\n",
    "        email=input(\"Enter email (should be a valid email): \")\n",
    "        if(re.fullmatch(regex, email)):\n",
    "            print(\"It's a Valid Email\")\n",
    "            data_per_employee.append(email)\n",
    "            break\n",
    "        else:\n",
    "            print(\"It's Invalid Email. Please enter a Valid email.\")\n",
    "            \n",
    "    \n",
    "    data_for_all_employees.append(data_per_employee)\n",
    "\n",
    "print(data_for_all_employees)\n",
    "    \n"
   ]
  },
  {
   "cell_type": "code",
   "execution_count": 19,
   "id": "7c23da85",
   "metadata": {},
   "outputs": [],
   "source": [
    "file=open(r\"D:\\instantTasks\\task9\\employee.txt\",'a')\n",
    "file.write(\"Name\\t\"+\"\\tPhone number\\t\"+\"\\tEmail\\t\\t\")\n",
    "for data_employee in data_for_all_employees:\n",
    "    file.write(\"\\n\")\n",
    "    for data in data_employee:\n",
    "        file.write(data+\"\\t\\t\")\n",
    "file.close()"
   ]
  },
  {
   "cell_type": "code",
   "execution_count": 48,
   "id": "046c1de5",
   "metadata": {},
   "outputs": [
    {
     "name": "stdout",
     "output_type": "stream",
     "text": [
      "names:  ['aya ali amen', 'ahmed kamel ali']\n",
      "phone_numbers:  ['01147296250', '01147296350']\n",
      "emails:  ['aya.ismail@gmail.com', 'ahmed14.ali@gmail.com']\n"
     ]
    }
   ],
   "source": [
    "names=[]\n",
    "phone_numbers=[]\n",
    "emails=[]\n",
    "file=open(r\"D:\\instantTasks\\task9\\employee.txt\",'r')\n",
    "file=file.read()\n",
    "\n",
    "pattern=re.compile(r\"[a-zA-Z]+\\s[a-zA-Z]+\\s[a-zA-Z]+\")\n",
    "matches=pattern.finditer(file)\n",
    "for match in matches:\n",
    "    #print(match.group(0))\n",
    "    names.append(match.group(0))\n",
    "print(\"names: \", names)\n",
    "\n",
    "pattern=re.compile(r\"[0-9]{11,}\")\n",
    "matches=pattern.finditer(file)\n",
    "for match in matches:\n",
    "    #print(match)\n",
    "    #print(match.group(0))\n",
    "    phone_numbers.append(match.group(0))\n",
    "print(\"phone_numbers: \", phone_numbers)\n",
    "\n",
    "pattern=re.compile(r\"[A-Za-z0-9_.+-]+@[A-Za-z0-9-]+\\.[A-Za-z0-9-.]{2,}\")\n",
    "matches=pattern.finditer(file)\n",
    "for match in matches:\n",
    "    #print(match)\n",
    "    #print(match.group(0))\n",
    "    emails.append(match.group(0))\n",
    "print(\"emails: \", emails)\n",
    "\n",
    "          "
   ]
  },
  {
   "cell_type": "code",
   "execution_count": null,
   "id": "a5c84afa",
   "metadata": {},
   "outputs": [],
   "source": []
  }
 ],
 "metadata": {
  "kernelspec": {
   "display_name": "Python 3 (ipykernel)",
   "language": "python",
   "name": "python3"
  },
  "language_info": {
   "codemirror_mode": {
    "name": "ipython",
    "version": 3
   },
   "file_extension": ".py",
   "mimetype": "text/x-python",
   "name": "python",
   "nbconvert_exporter": "python",
   "pygments_lexer": "ipython3",
   "version": "3.9.7"
  }
 },
 "nbformat": 4,
 "nbformat_minor": 5
}
