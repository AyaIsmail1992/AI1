{
 "cells": [
  {
   "cell_type": "code",
   "execution_count": 2,
   "id": "e2293e0a",
   "metadata": {},
   "outputs": [
    {
     "name": "stdout",
     "output_type": "stream",
     "text": [
      "   Movie Rank                Movie Title  Year  Rate\n",
      "0           1  The Shawshank Redemption1  2020     8\n",
      "1           2  The Shawshank Redemption2  2021    10\n"
     ]
    }
   ],
   "source": [
    "\n",
    "#how to append data in csv file in pandas?\n",
    "import pandas as pd\n",
    "\n",
    "#create DataFrame\n",
    "df = pd.DataFrame({'Movie Rank': [1,2],\n",
    "                   'Movie Title': [\"The Shawshank Redemption1\",\"The Shawshank Redemption2\"],\n",
    "                   'Year': [2020,2021],\n",
    "                  'Rate':[8,10]\n",
    "                  })\n",
    "\n",
    "print(df)"
   ]
  },
  {
   "cell_type": "code",
   "execution_count": 3,
   "id": "5c5bbc85",
   "metadata": {},
   "outputs": [],
   "source": [
    "df.to_csv('scrape-imdb.csv', mode='a', index=False, header=False)"
   ]
  },
  {
   "cell_type": "code",
   "execution_count": null,
   "id": "ad8d131f",
   "metadata": {},
   "outputs": [],
   "source": []
  }
 ],
 "metadata": {
  "kernelspec": {
   "display_name": "Python 3 (ipykernel)",
   "language": "python",
   "name": "python3"
  },
  "language_info": {
   "codemirror_mode": {
    "name": "ipython",
    "version": 3
   },
   "file_extension": ".py",
   "mimetype": "text/x-python",
   "name": "python",
   "nbconvert_exporter": "python",
   "pygments_lexer": "ipython3",
   "version": "3.9.7"
  }
 },
 "nbformat": 4,
 "nbformat_minor": 5
}
