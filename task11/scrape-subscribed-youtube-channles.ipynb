{
 "cells": [
  {
   "cell_type": "code",
   "execution_count": 10,
   "id": "00bb2883",
   "metadata": {},
   "outputs": [],
   "source": [
    "import csv\n",
    "\n",
    "from bs4 import BeautifulSoup\n",
    "import requests\n",
    "\n",
    "with open('(15) Channel list - YouTube.html', encoding='utf-8') as html_file:\n",
    "    soup = BeautifulSoup(html_file, 'lxml') #parser # parsing\n",
    "#print(soup.prettify())\n",
    "\n",
    "\n",
    "channles=soup.find_all('div',attrs={'id':'info-section','class':'style-scope ytd-channel-renderer'})\n",
    "#print('channles: ', channles)\n",
    "\n",
    "csvfile = open ('scrape2.csv', 'w', newline='', encoding='utf-8') # 'w' = write into the file\n",
    "writer = csv.writer(csvfile) # import csv\n",
    "writer.writerow(['Link', 'Channle Name'])\n",
    "\n",
    "for ch in channles:\n",
    "    link=ch.a['href']\n",
    "    #print(\"link: \",link)\n",
    "    channle_name=ch.find('yt-formatted-string').text\n",
    "    #print(\"channle_name: \",channle_name)\n",
    "    \n",
    "    writer.writerow([link ,channle_name])\n",
    "    \n",
    "csvfile.close()"
   ]
  },
  {
   "cell_type": "code",
   "execution_count": null,
   "id": "eb46b80c",
   "metadata": {},
   "outputs": [],
   "source": []
  }
 ],
 "metadata": {
  "kernelspec": {
   "display_name": "Python 3 (ipykernel)",
   "language": "python",
   "name": "python3"
  },
  "language_info": {
   "codemirror_mode": {
    "name": "ipython",
    "version": 3
   },
   "file_extension": ".py",
   "mimetype": "text/x-python",
   "name": "python",
   "nbconvert_exporter": "python",
   "pygments_lexer": "ipython3",
   "version": "3.9.7"
  }
 },
 "nbformat": 4,
 "nbformat_minor": 5
}
