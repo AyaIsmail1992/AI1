{
 "cells": [
  {
   "cell_type": "code",
   "execution_count": 17,
   "id": "0be8eca7",
   "metadata": {},
   "outputs": [],
   "source": [
    "#youtube link: download video--> resolutions\n",
    "#scrape image\n",
    "#scrape 5 articles and save them into csv file\n",
    "#all your youtube subscribtions  https://www.youtube.com/feed/channels"
   ]
  },
  {
   "cell_type": "code",
   "execution_count": 4,
   "id": "7cf1ab0f",
   "metadata": {},
   "outputs": [
    {
     "name": "stdout",
     "output_type": "stream",
     "text": [
      "Requirement already satisfied: pytube in c:\\programdata\\anaconda3\\lib\\site-packages (12.1.0)\n"
     ]
    }
   ],
   "source": [
    "!pip install pytube"
   ]
  },
  {
   "cell_type": "code",
   "execution_count": 6,
   "id": "75183712",
   "metadata": {},
   "outputs": [],
   "source": [
    "#youtube link: download video--> resolutions\n",
    "from pytube import YouTube \n",
    "  \n",
    "# where to save \n",
    "SAVE_PATH = r\"D:\\instantTasks\\task11\" #to_do "
   ]
  },
  {
   "cell_type": "code",
   "execution_count": 14,
   "id": "328ab2d0",
   "metadata": {},
   "outputs": [],
   "source": [
    "# link of the video to be downloaded \n",
    "link=\"https://www.youtube.com/watch?v=xWOoBJUqlbI\"\n",
    "  \n",
    "try: \n",
    "    # object creation using YouTube\n",
    "    # which was imported in the beginning \n",
    "    yt = YouTube(link) \n",
    "    stream = yt.streams.first()\n",
    "    stream.download()\n",
    "except: \n",
    "    print(\"Connection Error\") #to handle exception "
   ]
  },
  {
   "cell_type": "code",
   "execution_count": 16,
   "id": "da0b3f0c",
   "metadata": {},
   "outputs": [
    {
     "name": "stdout",
     "output_type": "stream",
     "text": [
      "https://media.geeksforgeeks.org/gfg-gg-logo.svg\n",
      "https://media.geeksforgeeks.org/wp-content/cdn-uploads/write_ndi_20210312.svg\n",
      "https://media.geeksforgeeks.org/wp-content/cdn-uploads/practice_ndi_20210312.svg\n",
      "https://media.geeksforgeeks.org/wp-content/cdn-uploads/premium_ndi_20210312.svg\n",
      "https://media.geeksforgeeks.org/wp-content/cdn-uploads/jobs_ndi_20210312.svg\n",
      "https://media.geeksforgeeks.org/wp-content/cdn-uploads/20220805183149/image16.png\n",
      "https://videocdn.geeksforgeeks.org/geeksforgeeks/HowtoCreateAndroidUIusingJetpackCompose/HowtoCreateAndroidUIusingJetpackCompose20220910105228-small.png\n",
      "https://videocdn.geeksforgeeks.org/geeksforgeeks/PythonprogramtoappendStringtoList/AppendStringtoListPythonProgram20220909183200-small.png\n",
      "https://videocdn.geeksforgeeks.org/geeksforgeeks/GeneratingrandomnumbersusingCprogram/GeneratingrandomnumbersusingCprogram20220909170257-small.png\n",
      "https://videocdn.geeksforgeeks.org/geeksforgeeks/CprogramtocalculatethenCr/CprogramtocalculatethenCr20220909135106-small.png\n",
      "https://videocdn.geeksforgeeks.org/geeksforgeeks/SyntaxDirectedTranslationSDTinCompilerDesign/SDTincompilerdesign20220909123819-small.png\n",
      "https://videocdn.geeksforgeeks.org/geeksforgeeks/Pythonprogramtofindareaofcircle/Pythonprogramtofindareaofcircle20220909130047-small.png\n",
      "https://videocdn.geeksforgeeks.org/geeksforgeeks/Javascriptprogramtofindlargestof3numbers/Javascriptprogramtofindlargestof3numbers20220908151636-small.png\n",
      "https://videocdn.geeksforgeeks.org/geeksforgeeks/CProgramtoMultiplyTwoNumbers/CProgramtoMultiplyTwoNumbers20220908150144-small.png\n",
      "https://videocdn.geeksforgeeks.org/geeksforgeeks/GettingJSONDatainTableau/611GettingJSONDatainTableau20220908140315-small.png\n",
      "https://videocdn.geeksforgeeks.org/geeksforgeeks/Pythonprogramtofinddifferencebetweentwodatesinminutes/Pythonprogramtofinddifferencebetweentwodates20220907173010-small.png\n",
      "https://media.geeksforgeeks.org/wp-content/post-ads-banner/2021-12-29-11-18-16-DSA_Ad_icon (1).png\n",
      "https://media.geeksforgeeks.org/wp-content/post-ads-banner/2021-12-29-16-30-50-CIP_Icon.png\n",
      "https://media.geeksforgeeks.org/wp-content/post-ads-banner/2022-07-27-23-40-15-image.png\n",
      "\n"
     ]
    }
   ],
   "source": [
    "#scrape image\n",
    "import requests \n",
    "from bs4 import BeautifulSoup \n",
    "    \n",
    "def getdata(url): \n",
    "    r = requests.get(url) \n",
    "    return r.text \n",
    "    \n",
    "htmldata = getdata(\"https://www.geeksforgeeks.org/\") \n",
    "soup = BeautifulSoup(htmldata, 'html.parser') \n",
    "for item in soup.find_all('img'):\n",
    "    print(item['src'])"
   ]
  },
  {
   "cell_type": "code",
   "execution_count": 24,
   "id": "5037d7be",
   "metadata": {},
   "outputs": [],
   "source": [
    "import csv"
   ]
  },
  {
   "cell_type": "code",
   "execution_count": 20,
   "id": "e97f6743",
   "metadata": {},
   "outputs": [],
   "source": [
    "#scrape 5 articles and save them into csv file\n",
    "website = requests.get(\"https://coreyms.com/\").text\n",
    "soup = BeautifulSoup(website, 'lxml') # parsing (understand txt string as html tags, id, class)"
   ]
  },
  {
   "cell_type": "code",
   "execution_count": 31,
   "id": "2d147000",
   "metadata": {},
   "outputs": [],
   "source": [
    "csvfile = open ('scrape1.csv', 'w', encoding='utf-8') # 'w' = write into the file\n",
    "writer = csv.writer(csvfile) # import csv\n",
    "writer.writerow(['headline', 'summary', 'link'])\n",
    "articles = soup.find_all('article')[:6]\n",
    "#print(articles,type(articles))\n",
    "for i in articles :\n",
    "    #print(\"i:   \",i)\n",
    "    headline = i.h2.a.text\n",
    "    summary = i.find('div', class_ ='entry-content').p.text\n",
    "    link = \"None\"\n",
    "    \n",
    "    try:\n",
    "        vid = i.find('iframe', class_ = \"youtube-player\")['src']\n",
    "        #print(\"vid: \", vid)#vid:  https://www.youtube.com/embed/z0gguhEmWiY?version=3&rel=1&showsearch=0&showinfo=1&iv_load_policy=1&fs=1&hl=en-US&autohide=2&wmode=transparent\n",
    "        vid_id = vid.split('/')\n",
    "        video = vid_id[4].split('?')\n",
    "        c = video[0]\n",
    "        link = f'https://youtube.com/watch?v={c}'\n",
    "    except Exception as e:\n",
    "        link = \"No Link\"\n",
    "        \n",
    "    writer.writerow([headline, summary , link]) \n",
    "   \n",
    "        \n",
    "csvfile.close()"
   ]
  },
  {
   "cell_type": "code",
   "execution_count": null,
   "id": "2511c413",
   "metadata": {},
   "outputs": [],
   "source": []
  },
  {
   "cell_type": "code",
   "execution_count": null,
   "id": "c1c679aa",
   "metadata": {},
   "outputs": [],
   "source": []
  },
  {
   "cell_type": "code",
   "execution_count": null,
   "id": "edf4672a",
   "metadata": {},
   "outputs": [],
   "source": []
  }
 ],
 "metadata": {
  "kernelspec": {
   "display_name": "Python 3 (ipykernel)",
   "language": "python",
   "name": "python3"
  },
  "language_info": {
   "codemirror_mode": {
    "name": "ipython",
    "version": 3
   },
   "file_extension": ".py",
   "mimetype": "text/x-python",
   "name": "python",
   "nbconvert_exporter": "python",
   "pygments_lexer": "ipython3",
   "version": "3.9.7"
  }
 },
 "nbformat": 4,
 "nbformat_minor": 5
}
