{
 "cells": [
  {
   "cell_type": "code",
   "execution_count": 2,
   "id": "bf72ef30",
   "metadata": {},
   "outputs": [
    {
     "data": {
      "text/plain": [
       "'Write a Python program to find those numbers which are divisible by 7\\nand multiple of 5, between 1500 and 2700 (both included).'"
      ]
     },
     "execution_count": 2,
     "metadata": {},
     "output_type": "execute_result"
    }
   ],
   "source": [
    "\"\"\"Write a Python program to find those numbers which are divisible by 7\n",
    "and multiple of 5, between 1500 and 2700 (both included).\"\"\""
   ]
  },
  {
   "cell_type": "code",
   "execution_count": 3,
   "id": "4377c9fe",
   "metadata": {},
   "outputs": [
    {
     "name": "stdout",
     "output_type": "stream",
     "text": [
      "1505\n",
      "1540\n",
      "1575\n",
      "1610\n",
      "1645\n",
      "1680\n",
      "1715\n",
      "1750\n",
      "1785\n",
      "1820\n",
      "1855\n",
      "1890\n",
      "1925\n",
      "1960\n",
      "1995\n",
      "2030\n",
      "2065\n",
      "2100\n",
      "2135\n",
      "2170\n",
      "2205\n",
      "2240\n",
      "2275\n",
      "2310\n",
      "2345\n",
      "2380\n",
      "2415\n",
      "2450\n",
      "2485\n",
      "2520\n",
      "2555\n",
      "2590\n",
      "2625\n",
      "2660\n",
      "2695\n"
     ]
    }
   ],
   "source": [
    "for i in range (1500,2701):\n",
    "    if i%7==0 and i%5==0:\n",
    "        print(i)"
   ]
  },
  {
   "cell_type": "code",
   "execution_count": 4,
   "id": "f7ea18d2",
   "metadata": {},
   "outputs": [
    {
     "data": {
      "text/plain": [
       "'2. Write a Python program to convert temperatures to and from celsius,\\nfahrenheit.\\n[ Formula : c/5 = f-32/9 [ where c = temperature in celsius and f = temperature in\\nfahrenheit ]\\n'"
      ]
     },
     "execution_count": 4,
     "metadata": {},
     "output_type": "execute_result"
    }
   ],
   "source": [
    "\"\"\"2. Write a Python program to convert temperatures to and from celsius,\n",
    "fahrenheit.\n",
    "[ Formula : c/5 = f-32/9 [ where c = temperature in celsius and f = temperature in\n",
    "fahrenheit ]\n",
    "\"\"\""
   ]
  },
  {
   "cell_type": "code",
   "execution_count": 7,
   "id": "72eb6ed5",
   "metadata": {},
   "outputs": [
    {
     "name": "stdout",
     "output_type": "stream",
     "text": [
      "Enter temperature in fahrenheit: 34\n",
      "temperature in celsius:  1.1111111111111112\n",
      "Enter temperature in celsius: 50\n",
      "temperature in fahrenheit:  122.0\n"
     ]
    }
   ],
   "source": [
    "f=int(input(\"Enter temperature in fahrenheit: \"))\n",
    "c= 5*((f-32)/9)\n",
    "print(\"temperature in celsius: \", c)\n",
    "c=int(input(\"Enter temperature in celsius: \"))\n",
    "f= ((9/5)*c)+32\n",
    "print(\"temperature in fahrenheit: \", f)\n"
   ]
  },
  {
   "cell_type": "code",
   "execution_count": null,
   "id": "f2ff3d7f",
   "metadata": {},
   "outputs": [],
   "source": [
    "\"\"\"Write a Python program to construct the following pattern, using a\n",
    "nested for loop.\n",
    "*\n",
    "* *\n",
    "* * *\n",
    "* * * *\n",
    "* * * * *\n",
    "* * * *\n",
    "* * *\n",
    "* *\n",
    "*\n",
    "\"\"\""
   ]
  },
  {
   "cell_type": "code",
   "execution_count": 26,
   "id": "a5b11d72",
   "metadata": {},
   "outputs": [
    {
     "name": "stdout",
     "output_type": "stream",
     "text": [
      "* \n",
      "* * \n",
      "* * * \n",
      "* * * * \n",
      "* * * * * \n",
      "* * * * \n",
      "* * * \n",
      "* * \n",
      "* \n"
     ]
    }
   ],
   "source": [
    "for i in range (5):\n",
    "    for j in range(i+1):\n",
    "        print(\"* \",end='') \n",
    "    print()\n",
    "for i in range (4,0,-1):\n",
    "    for j in range(i):\n",
    "        print(\"* \",end='') \n",
    "    print()\n",
    "    "
   ]
  },
  {
   "cell_type": "code",
   "execution_count": 27,
   "id": "81c894a7",
   "metadata": {},
   "outputs": [
    {
     "data": {
      "text/plain": [
       "'Write a Python program that accepts a word from the user and reverse\\nit.\\n'"
      ]
     },
     "execution_count": 27,
     "metadata": {},
     "output_type": "execute_result"
    }
   ],
   "source": [
    "\"\"\"Write a Python program that accepts a word from the user and reverse\n",
    "it.\n",
    "\"\"\""
   ]
  },
  {
   "cell_type": "code",
   "execution_count": 29,
   "id": "516c00d9",
   "metadata": {},
   "outputs": [
    {
     "name": "stdout",
     "output_type": "stream",
     "text": [
      "Enter a word: hello\n",
      "olleh\n"
     ]
    }
   ],
   "source": [
    "word=input(\"Enter a word: \")\n",
    "print(word[::-1])"
   ]
  },
  {
   "cell_type": "code",
   "execution_count": 30,
   "id": "39b16b1c",
   "metadata": {},
   "outputs": [
    {
     "data": {
      "text/plain": [
       "'Write a Python function to find the Max of three numbers.\\n'"
      ]
     },
     "execution_count": 30,
     "metadata": {},
     "output_type": "execute_result"
    }
   ],
   "source": [
    "\"\"\"Write a Python function to find the Max of three numbers.\n",
    "\"\"\""
   ]
  },
  {
   "cell_type": "code",
   "execution_count": 31,
   "id": "feb68566",
   "metadata": {},
   "outputs": [
    {
     "name": "stdout",
     "output_type": "stream",
     "text": [
      "Enter num1: 1\n",
      "Enter num2: 2\n",
      "Enter num3: 3\n",
      "The greatest number is:  3\n"
     ]
    }
   ],
   "source": [
    "num1=int(input(\"Enter num1: \"))\n",
    "num2=int(input(\"Enter num2: \"))\n",
    "num3=int(input(\"Enter num3: \"))\n",
    "if num1>num2 and num1>num3:\n",
    "    print(\"The greatest number is: \",num1)\n",
    "elif num2>num1 and num2>num3:\n",
    "    print(\"The greatest number is: \",num2)\n",
    "else:\n",
    "    print(\"The greatest number is: \",num3)"
   ]
  },
  {
   "cell_type": "code",
   "execution_count": 32,
   "id": "49f8c897",
   "metadata": {},
   "outputs": [
    {
     "data": {
      "text/plain": [
       "'Write a Python function to sum all the numbers in a list'"
      ]
     },
     "execution_count": 32,
     "metadata": {},
     "output_type": "execute_result"
    }
   ],
   "source": [
    "\"\"\"Write a Python function to sum all the numbers in a list\"\"\""
   ]
  },
  {
   "cell_type": "code",
   "execution_count": null,
   "id": "0bb93e88",
   "metadata": {},
   "outputs": [],
   "source": [
    "def sum_f(list_e):\n",
    "    sum=0\n",
    "    for i in list_e:\n",
    "        sum=sum+i\n",
    "    return sum\n",
    "\n",
    "\n",
    "num=int(input(\"Enter num: \"))\n",
    "list_e=[]\n",
    "for i in range(num):\n",
    "    element=int(input(\"Enter element to insert it in a list: \"))\n",
    "    list_e.append(element)\n",
    "print(\"list: \", list_e)\n",
    "print(\"sum: \", sum_f(list_e))\n",
    "\n",
    "    "
   ]
  },
  {
   "cell_type": "code",
   "execution_count": 35,
   "id": "ce4c3e3b",
   "metadata": {},
   "outputs": [
    {
     "data": {
      "text/plain": [
       "\"Write a Python program that prints all the numbers from 0 to 6 except 3\\nand 6.\\nNote : Use 'continue' statement.\""
      ]
     },
     "execution_count": 35,
     "metadata": {},
     "output_type": "execute_result"
    }
   ],
   "source": [
    "\"\"\"Write a Python program that prints all the numbers from 0 to 6 except 3\n",
    "and 6.\n",
    "Note : Use 'continue' statement.\"\"\""
   ]
  },
  {
   "cell_type": "code",
   "execution_count": null,
   "id": "28c25a80",
   "metadata": {},
   "outputs": [],
   "source": [
    "for i in range (7):\n",
    "    if i==3 or i==6:\n",
    "        continue\n",
    "    print(i)\n",
    "    "
   ]
  },
  {
   "cell_type": "code",
   "execution_count": null,
   "id": "a83b5b25",
   "metadata": {},
   "outputs": [],
   "source": [
    "\"\"\"Write a Python function to calculate the factorial of a number (a nonnegative integer). \n",
    "The function accepts the number as an argument.\"\"\""
   ]
  },
  {
   "cell_type": "code",
   "execution_count": 41,
   "id": "c611bf02",
   "metadata": {},
   "outputs": [
    {
     "name": "stdout",
     "output_type": "stream",
     "text": [
      "Enter num: 5\n",
      "fact:  120\n"
     ]
    }
   ],
   "source": [
    "def factorial(num):\n",
    "    fact=1\n",
    "    for i in range (1,num+1):\n",
    "        fact=fact*i\n",
    "    return fact\n",
    "        \n",
    "num=int(input(\"Enter num: \"))\n",
    "print(\"fact: \", factorial(num))\n"
   ]
  },
  {
   "cell_type": "code",
   "execution_count": null,
   "id": "7635d7cf",
   "metadata": {},
   "outputs": [],
   "source": [
    "\"\"\"Write a Python function that takes a list and returns a new list with\n",
    "unique elements of the first list.\n",
    "\"\"\""
   ]
  },
  {
   "cell_type": "code",
   "execution_count": 47,
   "id": "9d0b8837",
   "metadata": {},
   "outputs": [
    {
     "name": "stdout",
     "output_type": "stream",
     "text": [
      "Enter num: 5\n",
      "Enter element to insert it in a list: 1\n",
      "Enter element to insert it in a list: 1\n",
      "Enter element to insert it in a list: 2\n",
      "Enter element to insert it in a list: 2\n",
      "Enter element to insert it in a list: 5\n",
      "list:  [1, 1, 2, 2, 5]\n",
      "new_list_unique  [1, 2, 5]\n"
     ]
    }
   ],
   "source": [
    "def unique(list_e):\n",
    "    group=set(list_e)\n",
    "    new_list=list(group)\n",
    "    return new_list\n",
    "\n",
    "num=int(input(\"Enter num: \"))\n",
    "list_e=[]\n",
    "for i in range(num):\n",
    "    element=int(input(\"Enter element to insert it in a list: \"))\n",
    "    list_e.append(element)\n",
    "print(\"list: \", list_e)\n",
    "print(\"new_list_unique \", unique(list_e))\n",
    "    "
   ]
  },
  {
   "cell_type": "code",
   "execution_count": null,
   "id": "a6184262",
   "metadata": {},
   "outputs": [],
   "source": [
    "\"\"\"Write a Python program to create a lambda function that adds 15 to a\n",
    "given number passed in as an argument, also create a lambda function\n",
    "that multiplies argument x with argument y and print the result. Bonus\"\"\""
   ]
  },
  {
   "cell_type": "code",
   "execution_count": 51,
   "id": "2f77bf00",
   "metadata": {},
   "outputs": [
    {
     "name": "stdout",
     "output_type": "stream",
     "text": [
      "Enter num: 5\n",
      "20\n",
      "Enter x: 3\n",
      "Enter y: 4\n",
      "12\n"
     ]
    }
   ],
   "source": [
    "num=int(input(\"Enter num: \"))\n",
    "l=lambda number: number+15\n",
    "print(l(num))\n",
    "x=int(input(\"Enter x: \"))\n",
    "y=int(input(\"Enter y: \"))\n",
    "ll=lambda x,y: x*y\n",
    "print(ll(x,y))"
   ]
  },
  {
   "cell_type": "code",
   "execution_count": null,
   "id": "005364f4",
   "metadata": {},
   "outputs": [],
   "source": []
  }
 ],
 "metadata": {
  "kernelspec": {
   "display_name": "Python 3 (ipykernel)",
   "language": "python",
   "name": "python3"
  },
  "language_info": {
   "codemirror_mode": {
    "name": "ipython",
    "version": 3
   },
   "file_extension": ".py",
   "mimetype": "text/x-python",
   "name": "python",
   "nbconvert_exporter": "python",
   "pygments_lexer": "ipython3",
   "version": "3.9.7"
  }
 },
 "nbformat": 4,
 "nbformat_minor": 5
}
