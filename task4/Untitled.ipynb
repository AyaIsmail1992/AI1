{
 "cells": [
  {
   "cell_type": "code",
   "execution_count": 1,
   "id": "7b8ba80d",
   "metadata": {},
   "outputs": [
    {
     "data": {
      "text/plain": [
       "'\\t1.How to sort dictionary by keys\\n\\t2.Compare between Adjacency Matrix/List\\n\\t3.How does DFS and BFS work\\n\\t4.Create your own library and use it\\n\\t5.Create a function receives stack elements as inputs from user while not equal to zero\\n\\t6.Implement Unordered/Multi set in Python'"
      ]
     },
     "execution_count": 1,
     "metadata": {},
     "output_type": "execute_result"
    }
   ],
   "source": [
    "\"\"\"\t1.How to sort dictionary by keys\n",
    "\t2.Compare between Adjacency Matrix/List\n",
    "\t3.How does DFS and BFS work\n",
    "\t4.Create your own library and use it\n",
    "\t5.Create a function receives stack elements as inputs from user while not equal to zero\n",
    "\t6.Implement Unordered/Multi set in Python\"\"\""
   ]
  },
  {
   "cell_type": "code",
   "execution_count": 3,
   "id": "0866a2cb",
   "metadata": {},
   "outputs": [
    {
     "name": "stdout",
     "output_type": "stream",
     "text": [
      "Sorted keys [1, 2, 6, 7, 8, 9]\n"
     ]
    }
   ],
   "source": [
    "#1.\n",
    "dict = {6:'Gehan' ,2:'Yaaqub' ,1:'Ihab' ,9:'Ahmed' ,7:'Ali' ,8:'Hosam' }  \n",
    " \n",
    "b = sorted(dict.keys())\n",
    "print(\"Sorted keys\",b) "
   ]
  },
  {
   "cell_type": "code",
   "execution_count": 4,
   "id": "daf86a31",
   "metadata": {},
   "outputs": [
    {
     "data": {
      "text/plain": [
       "'Adjacency List: An Adjacency list is an array consisting of the address of all the linked lists. \\nThe first node of the linked list represents the vertex and the remaining lists connected to this node represents \\nthe vertices to which this node is connected. This representation can also be used to represent a weighted graph.\\nThe linked list can slightly be changed to even store the weight of the edge.\\n\\nIn the adjacency list representation, a graph is represented as an array of linked list. The index of the array \\nrepresents a vertex and each element in its linked list represents the  vertices that form an edge with the vertex.\\n\\nAdjacency Matrix: Adjacency Matrix is a 2D array of size V x V where V is the number of vertices in a graph. \\nLet the 2D array be adj[][], a slot adj[i][j] = 1 indicates that there is an edge from vertex i to vertex j. \\nAdjacency matrix for undirected graph is always symmetric. Adjacency Matrix is also used to represent weighted graphs. \\nIf adj[i][j] = w, then there is an edge from vertex i to vertex j with weight w.\\n\\nIn the adjacency matrix representation, a graph is represented in the form of a two-dimensional array. \\nThe size of the array is V x V, where V is the set of vertices. T'"
      ]
     },
     "execution_count": 4,
     "metadata": {},
     "output_type": "execute_result"
    }
   ],
   "source": [
    "#2.\n",
    "\"\"\"Adjacency List: An Adjacency list is an array consisting of the address of all the linked lists. \n",
    "The first node of the linked list represents the vertex and the remaining lists connected to this node represents \n",
    "the vertices to which this node is connected. This representation can also be used to represent a weighted graph.\n",
    "The linked list can slightly be changed to even store the weight of the edge.\n",
    "\n",
    "In the adjacency list representation, a graph is represented as an array of linked list. The index of the array \n",
    "represents a vertex and each element in its linked list represents the  vertices that form an edge with the vertex.\n",
    "\n",
    "Adjacency Matrix: Adjacency Matrix is a 2D array of size V x V where V is the number of vertices in a graph. \n",
    "Let the 2D array be adj[][], a slot adj[i][j] = 1 indicates that there is an edge from vertex i to vertex j. \n",
    "Adjacency matrix for undirected graph is always symmetric. Adjacency Matrix is also used to represent weighted graphs. \n",
    "If adj[i][j] = w, then there is an edge from vertex i to vertex j with weight w.\n",
    "\n",
    "In the adjacency matrix representation, a graph is represented in the form of a two-dimensional array. \n",
    "The size of the array is V x V, where V is the set of vertices. T\"\"\""
   ]
  },
  {
   "cell_type": "code",
   "execution_count": 5,
   "id": "fb7f0b53",
   "metadata": {},
   "outputs": [
    {
     "data": {
      "text/plain": [
       "'BFS pseudocode::\\n        \\ncreate a queue Q \\nmark v as visited and put v into Q \\nwhile Q is non-empty \\n    remove the head u of Q \\n    mark and enqueue all (unvisited) neighbours of u\\n\\n'"
      ]
     },
     "execution_count": 5,
     "metadata": {},
     "output_type": "execute_result"
    }
   ],
   "source": [
    "#3.\n",
    "\"\"\"BFS pseudocode::\n",
    "        \n",
    "create a queue Q \n",
    "mark v as visited and put v into Q \n",
    "while Q is non-empty \n",
    "    remove the head u of Q \n",
    "    mark and enqueue all (unvisited) neighbours of u\n",
    "    \n",
    "#######################################################\n",
    "#######################################################\n",
    "\n",
    "BFS algorithm:::\n",
    "\n",
    "A standard BFS implementation puts each vertex of the graph into one of two categories:\n",
    "\n",
    "Visited\n",
    "Not Visited\n",
    "\n",
    "The purpose of the algorithm is to mark each vertex as visited while avoiding cycles.\n",
    "\n",
    "#######The algorithm works as follows:\n",
    "\n",
    "Start by putting any one of the graph's vertices at the back of a queue.\n",
    "Take the front item of the queue and add it to the visited list.\n",
    "Create a list of that vertex's adjacent nodes. \n",
    "Add the ones which aren't in the visited list to the back of the queue.\n",
    "Keep repeating steps 2 and 3 until the queue is empty.\n",
    "The graph might have two different disconnected parts so to make sure that we cover every vertex,\n",
    "we can also run the BFS algorithm on every node\n",
    "\n",
    "\"\"\""
   ]
  },
  {
   "cell_type": "code",
   "execution_count": 6,
   "id": "f2034f8b",
   "metadata": {
    "scrolled": true
   },
   "outputs": [
    {
     "data": {
      "text/plain": [
       "\"\\nDFS Pseudocode::\\n\\nIn the init() function, notice that we run the DFS function on every node. \\nThis is because the graph might have two different disconnected parts so to make sure that we cover every vertex, \\nwe can also run the DFS algorithm on every node.\\n\\nDFS(G, u)\\n    u.visited = true\\n    for each v ∈ G.Adj[u]\\n        if v.visited == false\\n            DFS(G,v)\\n     \\ninit() {\\n    For each u ∈ G\\n        u.visited = false\\n     For each u ∈ G\\n       DFS(G, u)\\n}\\n\\n######################################################################################################################\\n######################################################################################################################\\n\\nDepth First Search Algorithm:::\\n\\nA standard DFS implementation puts each vertex of the graph into one of two categories:\\n\\nVisited\\nNot Visited\\n\\nThe purpose of the algorithm is to mark each vertex as visited while avoiding cycles.\\n\\n####The DFS algorithm works as follows:\\n\\nStart by putting any one of the graph's vertices on top of a stack.\\nTake the top item of the stack and add it to the visited list.\\nCreate a list of that vertex's adjacent nodes. Add the ones which aren't in the visited list to the top of the stack.\\nKeep repeating steps 2 and 3 until the stack is empty.\\n\\n\""
      ]
     },
     "execution_count": 6,
     "metadata": {},
     "output_type": "execute_result"
    }
   ],
   "source": [
    "\"\"\"\n",
    "DFS Pseudocode::\n",
    "\n",
    "In the init() function, notice that we run the DFS function on every node. \n",
    "This is because the graph might have two different disconnected parts so to make sure that we cover every vertex, \n",
    "we can also run the DFS algorithm on every node.\n",
    "\n",
    "DFS(G, u)\n",
    "    u.visited = true\n",
    "    for each v ∈ G.Adj[u]\n",
    "        if v.visited == false\n",
    "            DFS(G,v)\n",
    "     \n",
    "init() {\n",
    "    For each u ∈ G\n",
    "        u.visited = false\n",
    "     For each u ∈ G\n",
    "       DFS(G, u)\n",
    "}\n",
    "\n",
    "######################################################################################################################\n",
    "######################################################################################################################\n",
    "\n",
    "Depth First Search Algorithm:::\n",
    "\n",
    "A standard DFS implementation puts each vertex of the graph into one of two categories:\n",
    "\n",
    "Visited\n",
    "Not Visited\n",
    "\n",
    "The purpose of the algorithm is to mark each vertex as visited while avoiding cycles.\n",
    "\n",
    "####The DFS algorithm works as follows:\n",
    "\n",
    "Start by putting any one of the graph's vertices on top of a stack.\n",
    "Take the top item of the stack and add it to the visited list.\n",
    "Create a list of that vertex's adjacent nodes. Add the ones which aren't in the visited list to the top of the stack.\n",
    "Keep repeating steps 2 and 3 until the stack is empty.\n",
    "\n",
    "\"\"\""
   ]
  },
  {
   "cell_type": "code",
   "execution_count": null,
   "id": "e4c839b9",
   "metadata": {},
   "outputs": [],
   "source": []
  },
  {
   "cell_type": "code",
   "execution_count": null,
   "id": "6f16cf23",
   "metadata": {},
   "outputs": [],
   "source": []
  },
  {
   "cell_type": "code",
   "execution_count": null,
   "id": "e239c166",
   "metadata": {},
   "outputs": [],
   "source": []
  }
 ],
 "metadata": {
  "kernelspec": {
   "display_name": "Python 3 (ipykernel)",
   "language": "python",
   "name": "python3"
  },
  "language_info": {
   "codemirror_mode": {
    "name": "ipython",
    "version": 3
   },
   "file_extension": ".py",
   "mimetype": "text/x-python",
   "name": "python",
   "nbconvert_exporter": "python",
   "pygments_lexer": "ipython3",
   "version": "3.9.7"
  }
 },
 "nbformat": 4,
 "nbformat_minor": 5
}
