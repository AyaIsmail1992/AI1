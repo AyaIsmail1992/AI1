{
 "cells": [
  {
   "cell_type": "code",
   "execution_count": 3,
   "id": "90e6dd01",
   "metadata": {},
   "outputs": [
    {
     "name": "stdout",
     "output_type": "stream",
     "text": [
      "0\n",
      "Enter element to push into stack: 10\n",
      "Enter element to push into stack: 9\n",
      "Enter element to push into stack: 8\n",
      "Enter element to push into stack: 1\n",
      "Enter element to push into stack: 2\n",
      "Enter element to push into stack: 3\n",
      "Enter element to push into stack: 7\n",
      "Enter element to push into stack: 88\n",
      "Enter element to push into stack: 99\n",
      "Enter element to push into stack: 11\n",
      "10\n"
     ]
    }
   ],
   "source": [
    "#5.Create a function receives stack elements as inputs from user while not equal to zero\n",
    "from queue import LifoQueue as stack\n",
    "maxsize=10\n",
    "s=stack(maxsize=maxsize)  #maxsize=maxsize\n",
    "print(s.qsize())\n",
    "\n",
    "for i in range(maxsize):\n",
    "    element=int(input(\"Enter element to push into stack: \"))\n",
    "    s.put(element)\n",
    "\n",
    "print(s.qsize())"
   ]
  },
  {
   "cell_type": "code",
   "execution_count": 20,
   "id": "b7a05c12",
   "metadata": {},
   "outputs": [
    {
     "name": "stdout",
     "output_type": "stream",
     "text": [
      "{'Hello World', 'hi', 2, 'bye'}\n",
      "{1, 3, 21, 22, 55}\n"
     ]
    }
   ],
   "source": [
    "# 6.Implement Unordered/Multi set in Python\n",
    "#Set is an unordered and unindexed collection of items in Python. \n",
    "myset = {\"hi\", 2, \"bye\", \"Hello World\"}\n",
    "print(myset)\n",
    "myset = {55, 22, 21, 3, 1}\n",
    "print(myset)\n",
    "\n"
   ]
  },
  {
   "cell_type": "code",
   "execution_count": 23,
   "id": "93f9b097",
   "metadata": {},
   "outputs": [
    {
     "name": "stdout",
     "output_type": "stream",
     "text": [
      "{12, 23, 44, 15}\n",
      "{34, 3, 2, 21, 55}\n"
     ]
    }
   ],
   "source": [
    "# A set contains unique elements of which the order is not important\n",
    "s = set()\n",
    "s.add(15)\n",
    "s.add(12)\n",
    "s.add(23)\n",
    "s.add(44)\n",
    "\n",
    "print(s)\n",
    "# Can also be created from a list (or some other data structures)\n",
    "num_list = [55,34,21,2,3]\n",
    "set_from_list = set(num_list)\n",
    "print(set_from_list)"
   ]
  },
  {
   "cell_type": "code",
   "execution_count": 27,
   "id": "dd9192dd",
   "metadata": {},
   "outputs": [
    {
     "name": "stdout",
     "output_type": "stream",
     "text": [
      "Requirement already satisfied: multiset in c:\\programdata\\anaconda3\\lib\\site-packages (3.0.1)\n",
      "Note: you may need to restart the kernel to use updated packages.\n"
     ]
    }
   ],
   "source": [
    "pip install multiset"
   ]
  },
  {
   "cell_type": "code",
   "execution_count": 31,
   "id": "0058aab9",
   "metadata": {},
   "outputs": [
    {
     "name": "stdout",
     "output_type": "stream",
     "text": [
      "{}\n",
      "{a, b, c, d, e}\n",
      "{a, a, a, a, b, b, c, c, c, d}\n"
     ]
    }
   ],
   "source": [
    "from multiset import *\n",
    " \n",
    "# print empty multiset\n",
    "print(Multiset())\n",
    " \n",
    "# print multiset from iterable\n",
    "print(Multiset('abcde'))\n",
    " \n",
    "# print multiset from mapping\n",
    "print(Multiset({'a': 4, 'b': 2, 'c': 3, 'd':1}))"
   ]
  }
 ],
 "metadata": {
  "kernelspec": {
   "display_name": "Python 3 (ipykernel)",
   "language": "python",
   "name": "python3"
  },
  "language_info": {
   "codemirror_mode": {
    "name": "ipython",
    "version": 3
   },
   "file_extension": ".py",
   "mimetype": "text/x-python",
   "name": "python",
   "nbconvert_exporter": "python",
   "pygments_lexer": "ipython3",
   "version": "3.9.7"
  }
 },
 "nbformat": 4,
 "nbformat_minor": 5
}
