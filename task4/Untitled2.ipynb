{
 "cells": [
  {
   "cell_type": "code",
   "execution_count": 2,
   "id": "b80cc758",
   "metadata": {},
   "outputs": [
    {
     "name": "stdout",
     "output_type": "stream",
     "text": [
      "Enter first element: 5\n",
      "Enter second element: 6\n",
      "11\n",
      "30\n"
     ]
    }
   ],
   "source": [
    "from calculate import *\n",
    "x_ele=int(input(\"Enter first element: \"))\n",
    "y_ele=int(input(\"Enter second element: \"))\n",
    "print(summ(x_ele,y_ele))\n",
    "print(mult(x_ele,y_ele))"
   ]
  }
 ],
 "metadata": {
  "kernelspec": {
   "display_name": "Python 3 (ipykernel)",
   "language": "python",
   "name": "python3"
  },
  "language_info": {
   "codemirror_mode": {
    "name": "ipython",
    "version": 3
   },
   "file_extension": ".py",
   "mimetype": "text/x-python",
   "name": "python",
   "nbconvert_exporter": "python",
   "pygments_lexer": "ipython3",
   "version": "3.9.7"
  }
 },
 "nbformat": 4,
 "nbformat_minor": 5
}
