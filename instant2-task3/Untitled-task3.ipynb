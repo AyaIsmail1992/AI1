{
 "cells": [
  {
   "cell_type": "code",
   "execution_count": 1,
   "id": "787e75ca",
   "metadata": {},
   "outputs": [
    {
     "data": {
      "text/plain": [
       "'Write a function in recursion and iterative way'"
      ]
     },
     "execution_count": 1,
     "metadata": {},
     "output_type": "execute_result"
    }
   ],
   "source": [
    "\"\"\"Write a function in recursion and iterative way\"\"\""
   ]
  },
  {
   "cell_type": "code",
   "execution_count": 4,
   "id": "b7a73d26",
   "metadata": {},
   "outputs": [
    {
     "name": "stdout",
     "output_type": "stream",
     "text": [
      "Please enter nonnegative number: 5\n",
      "120\n"
     ]
    }
   ],
   "source": [
    "#recursion\n",
    "def factorial(n):\n",
    "    if n==1:\n",
    "        return 1\n",
    "    else:\n",
    "        return n*factorial(n-1)\n",
    "    \n",
    "n=int(input(\"Please enter nonnegative number: \"))\n",
    "print(factorial(n))\n",
    "        "
   ]
  },
  {
   "cell_type": "code",
   "execution_count": 7,
   "id": "b2c6bd6e",
   "metadata": {},
   "outputs": [
    {
     "name": "stdout",
     "output_type": "stream",
     "text": [
      "Please enter nonnegative number: 5\n",
      "120\n"
     ]
    }
   ],
   "source": [
    "#iterative\n",
    "def factorial(n):\n",
    "    fact=1\n",
    "    for i in range (2,n+1):\n",
    "        fact=fact*i\n",
    "    return fact\n",
    "    \n",
    "n=int(input(\"Please enter nonnegative number: \"))\n",
    "print(factorial(n))\n",
    "        "
   ]
  },
  {
   "cell_type": "code",
   "execution_count": 8,
   "id": "78672401",
   "metadata": {},
   "outputs": [
    {
     "data": {
      "text/plain": [
       "'Write a binary research code'"
      ]
     },
     "execution_count": 8,
     "metadata": {},
     "output_type": "execute_result"
    }
   ],
   "source": [
    "\"\"\"Write a binary research code\"\"\""
   ]
  },
  {
   "cell_type": "code",
   "execution_count": 11,
   "id": "555438e4",
   "metadata": {},
   "outputs": [
    {
     "name": "stdout",
     "output_type": "stream",
     "text": [
      "Enter num: 6\n",
      "Enter element to insert it in a list: 1\n",
      "Enter element to insert it in a list: 5\n",
      "Enter element to insert it in a list: 7\n",
      "Enter element to insert it in a list: 6\n",
      "Enter element to insert it in a list: 3\n",
      "Enter element to insert it in a list: 2\n",
      "list before sorting:  [1, 5, 7, 6, 3, 2]\n",
      "list after sorting:  [1, 2, 3, 5, 6, 7]\n",
      "Enter key to search: 2\n",
      "Element is present at index 1\n"
     ]
    }
   ],
   "source": [
    "def binary_search(list_e, key):  \n",
    "    low = 0  \n",
    "    high = len(list_e) - 1  \n",
    "    mid = 0  \n",
    "  \n",
    "    while low <= high:  \n",
    "        # for get integer result   \n",
    "        mid = (high + low) // 2  \n",
    "  \n",
    "        # Check if n is present at mid   \n",
    "        if list_e[mid] < key:  \n",
    "            low = mid + 1  \n",
    "  \n",
    "        # If n is greater, compare to the right of mid   \n",
    "        elif list_e[mid] > key:  \n",
    "            high = mid - 1 \n",
    "        # If n is smaller, compared to the left of mid  \n",
    "        else:  \n",
    "            return mid  \n",
    "  \n",
    "            # element was not present in the list, return -1  \n",
    "    return -1  \n",
    "  \n",
    "  \n",
    "\n",
    "num=int(input(\"Enter num: \"))\n",
    "list_e=[]\n",
    "for i in range(num):\n",
    "    element=int(input(\"Enter element to insert it in a list: \"))\n",
    "    list_e.append(element)\n",
    "print(\"list before sorting: \", list_e)\n",
    "\n",
    "list_e=sorted(list_e)\n",
    "print(\"list after sorting: \", list_e)\n",
    "\n",
    "key=int(input(\"Enter key to search: \"))\n",
    "  \n",
    "# Function call   \n",
    "result = binary_search(list_e, key)  \n",
    "  \n",
    "if result != -1:  \n",
    "    print(\"Element is present at index\", result)  \n",
    "else:  \n",
    "    print(\"Element is not present in list1\")  \n",
    "  "
   ]
  }
 ],
 "metadata": {
  "kernelspec": {
   "display_name": "Python 3 (ipykernel)",
   "language": "python",
   "name": "python3"
  },
  "language_info": {
   "codemirror_mode": {
    "name": "ipython",
    "version": 3
   },
   "file_extension": ".py",
   "mimetype": "text/x-python",
   "name": "python",
   "nbconvert_exporter": "python",
   "pygments_lexer": "ipython3",
   "version": "3.9.7"
  }
 },
 "nbformat": 4,
 "nbformat_minor": 5
}
